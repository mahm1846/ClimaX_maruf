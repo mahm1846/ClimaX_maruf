{
 "cells": [
  {
   "cell_type": "code",
   "execution_count": 1,
   "id": "0daf5c92",
   "metadata": {},
   "outputs": [],
   "source": [
    "from torchdata import _torchdata as _torchdata"
   ]
  },
  {
   "cell_type": "code",
   "execution_count": 2,
   "id": "489b32e5",
   "metadata": {},
   "outputs": [],
   "source": [
    "import os\n",
    "from typing import Optional\n",
    "\n",
    "import numpy as np\n",
    "import torch\n",
    "import torchdata.datapipes as dp\n",
    "from pytorch_lightning import LightningDataModule\n",
    "from torch.utils.data import DataLoader, IterableDataset\n",
    "from torchvision.transforms import transforms\n",
    "\n",
    "from climax.pretrain.datamodule import collate_fn\n",
    "from climax.pretrain.dataset import (\n",
    "\tForecast,\n",
    "\tIndividualForecastDataIter,\n",
    "\tNpyReader,\n",
    "\tShuffleIterableDataset,\n",
    ")"
   ]
  },
  {
   "cell_type": "code",
   "execution_count": 3,
   "id": "8e3b62f7",
   "metadata": {},
   "outputs": [],
   "source": [
    "from typing import Any\n",
    "\n",
    "import torch\n",
    "from pytorch_lightning import LightningModule\n",
    "from torchvision.transforms import transforms\n",
    "\n",
    "from climax.arch import ClimaX\n",
    "from climax.utils.lr_scheduler import LinearWarmupCosineAnnealingLR\n",
    "from climax.utils.metrics import (\n",
    "\tlat_weighted_acc,\n",
    "\tlat_weighted_mse,\n",
    "\tlat_weighted_mse_val,\n",
    "\tlat_weighted_rmse,\n",
    ")\n",
    "from climax.utils.pos_embed import interpolate_pos_embed\n"
   ]
  },
  {
   "cell_type": "code",
   "execution_count": 4,
   "id": "08d7bb05",
   "metadata": {},
   "outputs": [],
   "source": [
    "import os\n",
    "from climax.global_forecast.datamodule import GlobalForecastDataModule\n",
    "from climax.global_forecast.module import GlobalForecastModule\n",
    "from pytorch_lightning.cli import LightningCLI\n"
   ]
  },
  {
   "cell_type": "code",
   "execution_count": 5,
   "id": "0f9f7adb",
   "metadata": {},
   "outputs": [],
   "source": [
    "import math\n",
    "import os\n",
    "import random\n",
    "\n",
    "import numpy as np\n",
    "import torch\n",
    "from torch.utils.data import IterableDataset"
   ]
  },
  {
   "cell_type": "code",
   "execution_count": 6,
   "id": "96304803",
   "metadata": {},
   "outputs": [],
   "source": [
    "import os\n",
    "\n",
    "from pytorch_lightning.cli import LightningCLI\n",
    "\n",
    "from climax.pretrain.datamodule import MultiSourceDataModule\n",
    "from climax.pretrain.module import PretrainModule"
   ]
  },
  {
   "cell_type": "code",
   "execution_count": 7,
   "id": "cb47c282",
   "metadata": {},
   "outputs": [],
   "source": [
    "import os\n",
    "from typing import Optional\n",
    "\n",
    "import numpy as np\n",
    "import torch\n",
    "import torchdata.datapipes as dp\n",
    "from pytorch_lightning import LightningDataModule\n",
    "from torch.utils.data import DataLoader, IterableDataset\n",
    "from torchvision.transforms import transforms\n",
    "\n",
    "from climax.pretrain.dataset import (\n",
    "\tForecast,\n",
    "\tIndividualForecastDataIter,\n",
    "\tNpyReader,\n",
    "\tShuffleIterableDataset,\n",
    ")\n",
    "from climax.utils.data_utils import get_region_info"
   ]
  },
  {
   "cell_type": "code",
   "execution_count": 8,
   "id": "65f93821",
   "metadata": {},
   "outputs": [],
   "source": [
    "import os\n",
    "from climax.regional_forecast.datamodule import RegionalForecastDataModule\n",
    "from climax.regional_forecast.module import RegionalForecastModule\n",
    "from pytorch_lightning.cli import LightningCLI"
   ]
  },
  {
   "cell_type": "code",
   "execution_count": 9,
   "id": "baa6defd",
   "metadata": {},
   "outputs": [],
   "source": [
    "import math\n",
    "import warnings\n",
    "from typing import List\n",
    "\n",
    "from torch.optim import Optimizer\n",
    "from torch.optim.lr_scheduler import _LRScheduler"
   ]
  },
  {
   "cell_type": "code",
   "execution_count": 10,
   "id": "06cedefb",
   "metadata": {},
   "outputs": [],
   "source": [
    "from functools import lru_cache\n",
    "\n",
    "import numpy as np\n",
    "import torch\n",
    "import torch.nn as nn\n",
    "from timm.models.vision_transformer import Block, PatchEmbed, trunc_normal_\n",
    "\n",
    "from climax.utils.pos_embed import (\n",
    "\tget_1d_sincos_pos_embed_from_grid,\n",
    "\tget_2d_sincos_pos_embed,\n",
    ")"
   ]
  },
  {
   "cell_type": "code",
   "execution_count": 11,
   "id": "6adecec8",
   "metadata": {},
   "outputs": [],
   "source": [
    "import glob\n",
    "import os\n",
    "\n",
    "import click\n",
    "import numpy as np\n",
    "import xarray as xr\n",
    "from tqdm import tqdm\n",
    "\n",
    "from climax.utils.data_utils import DEFAULT_PRESSURE_LEVELS, NAME_TO_VAR\n"
   ]
  },
  {
   "cell_type": "code",
   "execution_count": null,
   "id": "072820fe",
   "metadata": {},
   "outputs": [],
   "source": []
  }
 ],
 "metadata": {
  "kernelspec": {
   "display_name": "climaX",
   "language": "python",
   "name": "climax"
  },
  "language_info": {
   "codemirror_mode": {
    "name": "ipython",
    "version": 3
   },
   "file_extension": ".py",
   "mimetype": "text/x-python",
   "name": "python",
   "nbconvert_exporter": "python",
   "pygments_lexer": "ipython3",
   "version": "3.8.16"
  }
 },
 "nbformat": 4,
 "nbformat_minor": 5
}
